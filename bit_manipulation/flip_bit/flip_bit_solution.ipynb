{
 "cells": [
  {
   "cell_type": "markdown",
   "metadata": {},
   "source": [
    "This notebook was prepared by [Donne Martin](https://github.com/donnemartin). Source and license info is on [GitHub](https://github.com/donnemartin/interactive-coding-challenges)."
   ]
  },
  {
   "cell_type": "markdown",
   "metadata": {},
   "source": [
    "# Solution Notebook"
   ]
  },
  {
   "cell_type": "markdown",
   "metadata": {},
   "source": [
    "## Problem: Flip one bit from 0 to 1 to maximize the longest sequence of 1s.\n",
    "\n",
    "* [Constraints](#Constraints)\n",
    "* [Test Cases](#Test-Cases)\n",
    "* [Algorithm](#Algorithm)\n",
    "* [Code](#Code)\n",
    "* [Unit Test](#Unit-Test)"
   ]
  },
  {
   "cell_type": "markdown",
   "metadata": {},
   "source": [
    "## Constraints\n",
    "\n",
    "* Is the input an int, base 2?\n",
    "    * Yes\n",
    "* Can we assume the input is a 32 bit number?\n",
    "    * Yes\n",
    "* Do we have to validate the length of the input?\n",
    "    * No\n",
    "* Is the output an int?\n",
    "    * Yes\n",
    "* Can we assume the inputs are valid?\n",
    "    * No\n",
    "* Can we assume we are using a positive number since Python doesn't have an >>> operator?\n",
    "    * Yes\n",
    "* Can we assume this fits memory?\n",
    "    * Yes"
   ]
  },
  {
   "cell_type": "markdown",
   "metadata": {},
   "source": [
    "## Test Cases\n",
    "\n",
    "* None -> Exception\n",
    "* All 1's -> Count of 1s\n",
    "* All 0's -> 1\n",
    "* General case\n",
    "    * Trailing zeroes\n",
    "        * 0000 1111 1101 1101 1111 0011 1111 0000 -> 10 (ten)\n",
    "    * Trailing ones\n",
    "        * 0000 1001 1101 1101 1111 0001 1111 0111 -> 9"
   ]
  },
  {
   "cell_type": "markdown",
   "metadata": {},
   "source": [
    "## Algorithm\n",
    "\n",
    "* Overview:\n",
    "  * Use 2 counters. \n",
    "  * Each counter will track the number of 1's it has seen. \n",
    "  * When we see a 0 this indicates the end of the run for the long_counter and indicates the bit to flip for the short_counter. We then throw the long counter away, promote the short_counter to the long_counter and reset the short_counter\n",
    "\n",
    "\n",
    "* For each bit:\n",
    "  * If we see a '1' \n",
    "      * Increment both counters.\n",
    "  * If we see a '0'  \n",
    "      * For the long_counter this indicates the end of the row of '1's. Compare our count to best (and update it if better).\n",
    "      * For the short_counter this indicates the bit we should flip from 0 to 1. Promote it to be the long_counter, it will continue to count bits as the long_counter\n",
    "      * Reset the short_counter to 0\n",
    "    \n",
    "    \n",
    "\n",
    "Complexity:\n",
    "* Time: O(lg(n))\n",
    "* Space: O(1)\n"
   ]
  },
  {
   "cell_type": "markdown",
   "metadata": {},
   "source": [
    "## Code"
   ]
  },
  {
   "cell_type": "code",
   "execution_count": 1,
   "metadata": {
    "collapsed": false
   },
   "outputs": [],
   "source": [
    "class Bits(object):\n",
    "    MAX_BITS = 32\n",
    "    \n",
    "    def flip_bit(self, num):\n",
    "        if num is None:\n",
    "            raise TypeError\n",
    "        count_no_bit_flip = 0\n",
    "        count_after_bit_flip = 0\n",
    "        best = 0\n",
    "        \n",
    "        # This handles negative numbers.\n",
    "        if num < 0:\n",
    "            num += 2**self.MAX_BITS\n",
    "            \n",
    "        for i in range(0, 32):\n",
    "            c = (num >> i) & 1\n",
    "            if c == 1:\n",
    "                count_no_bit_flip += 1\n",
    "                count_after_bit_flip += 1\n",
    "            else:\n",
    "                # If the count after the bit flip > best -> save it.\n",
    "                if count_after_bit_flip > best:\n",
    "                    best = count_after_bit_flip\n",
    "                \n",
    "                # This counter now assumes we flipped this bit\n",
    "                count_after_bit_flip = count_no_bit_flip + 1\n",
    "                \n",
    "                # We start a new counter from this index.\n",
    "                count_no_bit_flip = 0\n",
    "     \n",
    "        return max(count_after_bit_flip, best)\n",
    "    "
   ]
  },
  {
   "cell_type": "markdown",
   "metadata": {},
   "source": [
    "## Unit Test"
   ]
  },
  {
   "cell_type": "code",
   "execution_count": 2,
   "metadata": {
    "collapsed": false
   },
   "outputs": [
    {
     "name": "stdout",
     "output_type": "stream",
     "text": [
      "Overwriting test_flip_bit.py\n"
     ]
    }
   ],
   "source": [
    "%%writefile test_flip_bit.py\n",
    "from nose.tools import assert_equal, assert_raises\n",
    "\n",
    "\n",
    "class TestBits(object):\n",
    "\n",
    "    def test_flip_bit(self):\n",
    "        bits = Bits()\n",
    "        assert_raises(TypeError, bits.flip_bit, None)\n",
    "        assert_equal(bits.flip_bit(0), 1)\n",
    "        assert_equal(bits.flip_bit(-1), bits.MAX_BITS)\n",
    "        assert_equal(bits.flip_bit(-2), bits.MAX_BITS)\n",
    "        assert_equal(bits.flip_bit(-3), bits.MAX_BITS)\n",
    "        assert_equal(bits.flip_bit(-4), bits.MAX_BITS - 1)\n",
    "        num = int('00001111110111011110001111110000', base=2)\n",
    "        expected = 10\n",
    "        assert_equal(bits.flip_bit(num), expected)\n",
    "        num = int('00000100111011101111100011111011', base=2)\n",
    "        expected = 9\n",
    "        assert_equal(bits.flip_bit(num), expected)\n",
    "        num = int('00010011101110111110001111101111', base=2)\n",
    "        expected = 10\n",
    "        assert_equal(bits.flip_bit(num), expected)\n",
    "        print('Success: test_print_binary')\n",
    "\n",
    "\n",
    "def main():\n",
    "    test = TestBits()\n",
    "    test.test_flip_bit()\n",
    "\n",
    "\n",
    "if __name__ == '__main__':\n",
    "    main()"
   ]
  },
  {
   "cell_type": "code",
   "execution_count": 3,
   "metadata": {
    "collapsed": false
   },
   "outputs": [
    {
     "name": "stdout",
     "output_type": "stream",
     "text": [
      "Success: test_print_binary\n"
     ]
    }
   ],
   "source": [
    "%run -i test_flip_bit.py"
   ]
  }
 ],
 "metadata": {
  "kernelspec": {
   "display_name": "Python 3",
   "language": "python",
   "name": "python3"
  },
  "language_info": {
   "codemirror_mode": {
    "name": "ipython",
    "version": 3
   },
   "file_extension": ".py",
   "mimetype": "text/x-python",
   "name": "python",
   "nbconvert_exporter": "python",
   "pygments_lexer": "ipython3",
   "version": "3.4.3"
  }
 },
 "nbformat": 4,
 "nbformat_minor": 0
}
